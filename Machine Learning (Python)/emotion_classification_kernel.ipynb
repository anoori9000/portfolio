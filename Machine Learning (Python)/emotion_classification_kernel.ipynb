{
 "cells": [
  {
   "cell_type": "markdown",
   "metadata": {},
   "source": [
    "## 2. Face Emotion Classification with Kernel Classifier\n",
    "\n",
    "### a)"
   ]
  },
  {
   "cell_type": "code",
   "execution_count": 1,
   "metadata": {
    "scrolled": false
   },
   "outputs": [
    {
     "name": "stdout",
     "output_type": "stream",
     "text": [
      "Kernel Clasifier:\n",
      "Errors:  1\n",
      "Error rate:  0.0078125\n"
     ]
    }
   ],
   "source": [
    "import numpy as np\n",
    "import matplotlib.pyplot as plt\n",
    "from scipy.io import loadmat\n",
    "dataset = loadmat('face_emotion_data.mat')\n",
    "\n",
    "X, y = dataset['X'], dataset['y']\n",
    "n, p = np.shape(X)\n",
    "X = np.hstack((np.ones((n,1)), X))  # append a column of ones\n",
    "\n",
    "##############################################################\n",
    "# Gaussian Kernel with Squared Error Loss and L2 Regularizer #\n",
    "##############################################################\n",
    "sigma = 5\n",
    "lam = 0.5\n",
    "\n",
    "distsq=np.zeros((n,n),dtype=float)\n",
    "\n",
    "for i in range(0,n):\n",
    "    for j in range(0,n):\n",
    "        d = np.linalg.norm(X[i,:]-X[j,:])\n",
    "        distsq[i,j]=d**2\n",
    "        \n",
    "K = np.exp(-distsq/(2*sigma**2))\n",
    "\n",
    "alpha = np.linalg.inv(K+lam*np.identity(n))@y\n",
    "\n",
    "dtest = np.exp(-distsq/(2*sigma**2))@alpha\n",
    "\n",
    "yhat_k = np.sign(dtest)\n",
    "error_vec = [0 if i[0]==i[1] else 1 for i in np.hstack((yhat_k, y))]\n",
    "print(\"Kernel Clasifier:\")\n",
    "print(\"Errors: \", sum(error_vec))\n",
    "print(\"Error rate: \", sum(error_vec)/np.size(yhat_k))\n",
    "\n",
    "\n",
    "# ######################\n",
    "# # Squared Error Only #\n",
    "# ######################\n",
    "# w_opt_sq = np.linalg.inv(X.T@X)@X.T@y\n",
    "# print(w_opt_sq)\n",
    "# yhat_sq = np.sign(X@w_opt_sq)\n",
    "# error_vec = [0 if i[0]==i[1] else 1 for i in np.hstack((yhat_sq, y))]\n",
    "# print(\"Squared Error Loss Function:\")\n",
    "# print(\"Errors: \", sum(error_vec))\n",
    "# print(\"Error rate: \", sum(error_vec)/np.size(yhat_sq))\n",
    "\n",
    "# #######################\n",
    "# # L2 regularizer Only #\n",
    "# #######################\n",
    "# I = np.eye(X.shape[1])\n",
    "# lam = 0.5\n",
    "# LI = np.multiply(I,lam)\n",
    "# w_opt_l2 = np.linalg.inv((X.T@X) + LI)@X.T@y\n",
    "# print(w_opt_l2)\n",
    "# yhat_l2 = np.sign(X@w_opt_l2)\n",
    "# error_vec = [0 if i[0]==i[1] else 1 for i in np.hstack((y, yhat_l2))]\n",
    "# print(\"L2 Regularizer:\")\n",
    "# print(\"Errors: \", sum(error_vec))\n",
    "# print(\"Error rate: \", sum(error_vec)/np.size(yhat_l2))"
   ]
  },
  {
   "cell_type": "markdown",
   "metadata": {},
   "source": [
    "### b)\n",
    "Yes, this classifier does achieve 0 error for small values of sigma when trained/tested on the same data. The plot appears to be similar to a step function, increasing in error rate as we surpass a certain threashold of sigma (like at sigma=2 for example). "
   ]
  },
  {
   "cell_type": "code",
   "execution_count": 2,
   "metadata": {},
   "outputs": [
    {
     "name": "stdout",
     "output_type": "stream",
     "text": [
      "[0.        0.        0.        0.        0.        0.        0.\n",
      " 0.        0.        0.        0.0078125 0.0078125 0.0078125 0.0078125\n",
      " 0.0078125 0.0078125 0.0078125 0.0078125 0.0078125 0.0078125 0.0078125\n",
      " 0.0078125 0.0078125 0.0078125 0.0078125 0.0078125 0.0078125 0.0078125\n",
      " 0.0078125 0.0078125 0.0078125 0.0078125 0.015625  0.0234375 0.0234375\n",
      " 0.0234375 0.0234375 0.0234375 0.0234375 0.0234375 0.0234375 0.0390625\n",
      " 0.0390625 0.0390625 0.0390625 0.0390625 0.0390625 0.046875  0.046875\n",
      " 0.046875 ]\n",
      "[ 0.2  0.4  0.6  0.8  1.   1.2  1.4  1.6  1.8  2.   2.2  2.4  2.6  2.8\n",
      "  3.   3.2  3.4  3.6  3.8  4.   4.2  4.4  4.6  4.8  5.   5.2  5.4  5.6\n",
      "  5.8  6.   6.2  6.4  6.6  6.8  7.   7.2  7.4  7.6  7.8  8.   8.2  8.4\n",
      "  8.6  8.8  9.   9.2  9.4  9.6  9.8 10. ]\n"
     ]
    }
   ],
   "source": [
    "import numpy as np\n",
    "import matplotlib.pyplot as plt\n",
    "from scipy.io import loadmat\n",
    "dataset = loadmat('face_emotion_data.mat')\n",
    "\n",
    "X, y = dataset['X'], dataset['y']\n",
    "X = np.hstack((np.ones((n,1)), X))  # append a column of ones\n",
    "n, p = np.shape(X)\n",
    "\n",
    "errors = np.zeros(50)\n",
    "sigmas = np.zeros(50)\n",
    "\n",
    "##############################################################\n",
    "# Gaussian Kernel with Squared Error Loss and L2 Regularizer #\n",
    "##############################################################\n",
    "for k in range (50):\n",
    "    sigma = (k+1)/5\n",
    "    sigmas[k] = sigma\n",
    "    lam = 0.5\n",
    "\n",
    "    distsq=np.zeros((n,n),dtype=float)\n",
    "\n",
    "    for i in range(0,n):\n",
    "        for j in range(0,n):\n",
    "            d = np.linalg.norm(X[i,:]-X[j,:])\n",
    "            distsq[i,j]=d**2\n",
    "\n",
    "    K = np.exp(-distsq/(2*sigma**2))\n",
    "\n",
    "    alpha = np.linalg.inv(K+lam*np.identity(n))@y\n",
    "\n",
    "    dtest = np.exp(-distsq/(2*sigma**2))@alpha\n",
    "\n",
    "    yhat_k = np.sign(dtest)\n",
    "    error = (sum([0 if i[0]==i[1] else 1 for i in np.hstack((yhat_k, y))]))/np.size(yhat_k)\n",
    "    errors[k] = error\n",
    "    \n",
    "print(errors)\n",
    "print(sigmas)\n",
    "\n"
   ]
  },
  {
   "cell_type": "code",
   "execution_count": 3,
   "metadata": {},
   "outputs": [
    {
     "data": {
      "image/png": "[encoded data removed]",
      "text/plain": [
       "<Figure size 432x288 with 1 Axes>"
      ]
     },
     "metadata": {
      "needs_background": "light"
     },
     "output_type": "display_data"
    }
   ],
   "source": [
    "plt.scatter(sigmas, errors, c = 'teal')\n",
    "plt.title('Error Rate vs. $\\sigma$')\n",
    "plt.xlabel(\"$\\sigma$\")\n",
    "plt.ylabel(\"Error Rate\")\n",
    "plt.show()"
   ]
  },
  {
   "cell_type": "markdown",
   "metadata": {},
   "source": [
    "### c)\n",
    "No, we cannot achieve perfect accuracy with sigma from 0.01 to 0.1"
   ]
  },
  {
   "cell_type": "code",
   "execution_count": 4,
   "metadata": {},
   "outputs": [
    {
     "name": "stdout",
     "output_type": "stream",
     "text": [
      "0.75\n",
      "1.0\n",
      "0.875\n",
      "0.75\n",
      "1.0\n",
      "1.0\n",
      "1.0\n",
      "0.9375\n",
      "Sigma:  1  Lambda:  0.5  Error Rates:  [0.75   1.     0.875  0.75   1.     1.     1.     0.9375]\n",
      "0.75\n",
      "1.0\n",
      "0.9375\n",
      "0.875\n",
      "1.0\n",
      "1.0\n",
      "1.0\n",
      "0.9375\n",
      "Sigma:  2  Lambda:  0.5  Error Rates:  [0.75   1.     0.9375 0.875  1.     1.     1.     0.9375]\n",
      "0.75\n",
      "1.0\n",
      "0.875\n",
      "0.9375\n",
      "1.0\n",
      "1.0\n",
      "1.0\n",
      "1.0\n",
      "Sigma:  3  Lambda:  0.5  Error Rates:  [0.75   1.     0.875  0.9375 1.     1.     1.     1.    ]\n",
      "0.8125\n",
      "1.0\n",
      "0.9375\n",
      "0.9375\n",
      "1.0\n",
      "1.0\n",
      "1.0\n",
      "1.0\n",
      "Sigma:  4  Lambda:  0.5  Error Rates:  [0.8125 1.     0.9375 0.9375 1.     1.     1.     1.    ]\n",
      "0.8125\n",
      "1.0\n",
      "0.9375\n",
      "0.9375\n",
      "1.0\n",
      "1.0\n",
      "1.0\n",
      "1.0\n",
      "Sigma:  5  Lambda:  0.5  Error Rates:  [0.8125 1.     0.9375 0.9375 1.     1.     1.     1.    ]\n",
      "0.8125\n",
      "1.0\n",
      "0.9375\n",
      "0.875\n",
      "1.0\n",
      "1.0\n",
      "1.0\n",
      "1.0\n",
      "Sigma:  6  Lambda:  0.5  Error Rates:  [0.8125 1.     0.9375 0.875  1.     1.     1.     1.    ]\n",
      "0.8125\n",
      "1.0\n",
      "0.9375\n",
      "0.875\n",
      "1.0\n",
      "1.0\n",
      "1.0\n",
      "1.0\n",
      "Sigma:  7  Lambda:  0.5  Error Rates:  [0.8125 1.     0.9375 0.875  1.     1.     1.     1.    ]\n",
      "0.8125\n",
      "1.0\n",
      "0.9375\n",
      "0.875\n",
      "1.0\n",
      "1.0\n",
      "1.0\n",
      "1.0\n",
      "Sigma:  8  Lambda:  0.5  Error Rates:  [0.8125 1.     0.9375 0.875  1.     1.     1.     1.    ]\n",
      "0.8125\n",
      "1.0\n",
      "0.875\n",
      "0.875\n",
      "1.0\n",
      "1.0\n",
      "1.0\n",
      "0.875\n",
      "Sigma:  9  Lambda:  0.5  Error Rates:  [0.8125 1.     0.875  0.875  1.     1.     1.     0.875 ]\n",
      "0.8125\n",
      "1.0\n",
      "0.875\n",
      "0.875\n",
      "1.0\n",
      "1.0\n",
      "1.0\n",
      "0.875\n",
      "Sigma:  10  Lambda:  0.5  Error Rates:  [0.8125 1.     0.875  0.875  1.     1.     1.     0.875 ]\n",
      "Total Error Rates:  [0.9140625 0.9375    0.9453125 0.9609375 0.9609375 0.953125  0.953125\n",
      " 0.953125  0.9296875 0.9296875]\n"
     ]
    }
   ],
   "source": [
    "# Source: https://scikit-learn.org/stable/modules/generated/sklearn.model_selection.KFold.html\n",
    "import numpy as np\n",
    "from sklearn.model_selection import KFold\n",
    "import matplotlib.pyplot as plt\n",
    "from scipy.io import loadmat\n",
    "dataset = loadmat('face_emotion_data.mat')\n",
    "\n",
    "X, y = dataset['X'], dataset['y']\n",
    "n, p = np.shape(X)\n",
    "X = np.hstack((np.ones((n,1)), X))  # append a column of ones\n",
    "\n",
    "it = 10\n",
    "total_error = np.zeros(it)\n",
    "sigmas = np.zeros(it)\n",
    "\n",
    "for b in range(it):\n",
    "    sigma = (b + 1)\n",
    "    sigmas[b] = sigma\n",
    "\n",
    "    kf = KFold(n_splits=8)\n",
    "    kf.get_n_splits(X)\n",
    "    errors = np.zeros(8)\n",
    "\n",
    "    #print(kf)\n",
    "    k = 0\n",
    "    for train_index, test_index in kf.split(X):\n",
    "        #print(\"TRAIN:\", train_index, \"TEST:\", test_index)\n",
    "        X_train, X_test = X[train_index], X[test_index]\n",
    "        y_train, y_test = y[train_index], y[test_index]\n",
    "\n",
    "        n, p = np.shape(X_train)\n",
    "\n",
    "        lam = 0.5\n",
    "\n",
    "        # compute Kernel for training data\n",
    "        distsq=np.zeros((n,n),dtype=float)\n",
    "        for i in range(0,n):\n",
    "            for j in range(0,n):\n",
    "                d = np.linalg.norm(X_train[i,:]-X_train[j,:])\n",
    "                distsq[i,j]=d**2\n",
    "\n",
    "        K = np.exp(-distsq/(2*sigma**2))\n",
    "        alpha = np.linalg.inv(K+lam*np.identity(n))@y_train\n",
    "\n",
    "\n",
    "        error_test = 0\n",
    "        for q in range(16):\n",
    "            yhat_i = 0\n",
    "            x_i = X_test[q]\n",
    "            y_i = y_test[q]\n",
    "            for l in range(112):\n",
    "                dist = np.linalg.norm(x_i-X_train[l,:])\n",
    "                kernel = np.exp(-dist**2/(2*sigma**2))\n",
    "                yhat_i += kernel * np.squeeze(alpha[l])\n",
    "            error_test += np.sign(yhat_i) == y_i\n",
    "\n",
    "        errors[k] = error_test/y_test.size\n",
    "        print(errors[k])\n",
    "        k = k+1\n",
    "    print(\"Sigma: \", sigma, \" Lambda: \", lam, \" Error Rates: \", errors)\n",
    "    total_error[b] = np.sum(errors)/8\n",
    "\n",
    "print(\"Total Error Rates: \", total_error)"
   ]
  },
  {
   "cell_type": "code",
   "execution_count": 5,
   "metadata": {
    "scrolled": true
   },
   "outputs": [
    {
     "data": {
      "image/png": "[encoded data removed]",
      "text/plain": [
       "<Figure size 432x288 with 1 Axes>"
      ]
     },
     "metadata": {
      "needs_background": "light"
     },
     "output_type": "display_data"
    }
   ],
   "source": [
    "plt.scatter(sigmas, total_error, c = 'teal')\n",
    "plt.title('8-Fold CV Error Rate vs. Sigma')\n",
    "plt.xlabel(\"Sigma\")\n",
    "plt.ylabel(\"Error Rate\")\n",
    "plt.show()"
   ]
  },
  {
   "cell_type": "code",
   "execution_count": null,
   "metadata": {},
   "outputs": [],
   "source": []
  }
 ],
 "metadata": {
  "kernelspec": {
   "display_name": "Python 3 (ipykernel)",
   "language": "python",
   "name": "python3"
  },
  "language_info": {
   "codemirror_mode": {
    "name": "ipython",
    "version": 3
   },
   "file_extension": ".py",
   "mimetype": "text/x-python",
   "name": "python",
   "nbconvert_exporter": "python",
   "pygments_lexer": "ipython3",
   "version": "3.9.7"
  }
 },
 "nbformat": 4,
 "nbformat_minor": 2
}
